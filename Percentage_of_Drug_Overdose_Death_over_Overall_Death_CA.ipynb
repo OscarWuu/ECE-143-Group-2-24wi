{
 "cells": [
  {
   "cell_type": "code",
   "execution_count": 1,
   "metadata": {},
   "outputs": [],
   "source": [
    "import csv\n",
    "\n",
    "# Specify the path to your CSV file\n",
    "csv_file_path = 'D:\\College_life\\ECE 143\\VSRR_Provisional_Drug_Overdose_Death_Counts.csv'\n",
    "\n",
    "data_list = []\n",
    "\n",
    "with open(csv_file_path, 'r') as file:\n",
    "    csv_reader = csv.reader(file)\n",
    "\n",
    "\n",
    "    # Iterate through the rows and append each row to the data_list\n",
    "    for row in csv_reader:\n",
    "        data_list.append(row)"
   ]
  },
  {
   "cell_type": "code",
   "execution_count": 2,
   "metadata": {},
   "outputs": [
    {
     "data": {
      "text/plain": [
       "['锘縎tate',\n",
       " 'Year',\n",
       " 'Month',\n",
       " 'Period',\n",
       " 'Indicator',\n",
       " 'Data Value',\n",
       " 'Percent Complete',\n",
       " 'Percent Pending Investigation',\n",
       " 'State Name',\n",
       " 'Footnote',\n",
       " 'Footnote Symbol',\n",
       " 'Predicted Value']"
      ]
     },
     "execution_count": 2,
     "metadata": {},
     "output_type": "execute_result"
    }
   ],
   "source": [
    "data_list[0]"
   ]
  },
  {
   "cell_type": "code",
   "execution_count": 3,
   "metadata": {},
   "outputs": [
    {
     "data": {
      "text/plain": [
       "['CA',\n",
       " '2020',\n",
       " 'September',\n",
       " '12 month-ending',\n",
       " 'Synthetic opioids, excl. methadone (T40.4)',\n",
       " '3,587',\n",
       " '100',\n",
       " '0.311160096',\n",
       " 'California',\n",
       " 'Numbers may differ from published reports using final data. See Technical Notes.',\n",
       " '**',\n",
       " '3,726']"
      ]
     },
     "execution_count": 3,
     "metadata": {},
     "output_type": "execute_result"
    }
   ],
   "source": [
    "data_list[5850]"
   ]
  },
  {
   "cell_type": "code",
   "execution_count": 4,
   "metadata": {},
   "outputs": [],
   "source": [
    "# Find the indices of 'State' and 'Indicator' columns\n",
    "State_index = data_list[0].index('锘縎tate')\n",
    "Indicator_index = data_list[0].index('Indicator')\n",
    "Year_index = data_list[0].index('Year')\n",
    "Data_index = data_list[0].index('Data Value')\n",
    "\n",
    "# Filter the data for total number of death and drug overdose death from 2015 to 2023\n",
    "total_death = [row for row in data_list[1:] if row[State_index] == 'CA' and (row[Indicator_index] == 'Number of Deaths' or row[Indicator_index] == 'Number of Drug Overdose Deaths')] "
   ]
  },
  {
   "cell_type": "code",
   "execution_count": 5,
   "metadata": {},
   "outputs": [
    {
     "data": {
      "text/plain": [
       "[['CA',\n",
       "  '2015',\n",
       "  'April',\n",
       "  '12 month-ending',\n",
       "  'Number of Drug Overdose Deaths',\n",
       "  '4,625',\n",
       "  '100',\n",
       "  '0.22267839',\n",
       "  'California',\n",
       "  'Numbers may differ from published reports using final data. See Technical Notes.',\n",
       "  '**',\n",
       "  '4,730'],\n",
       " ['CA',\n",
       "  '2015',\n",
       "  'April',\n",
       "  '12 month-ending',\n",
       "  'Number of Deaths',\n",
       "  '252,831',\n",
       "  '100',\n",
       "  '0.22267839',\n",
       "  'California',\n",
       "  'Numbers may differ from published reports using final data. See Technical Notes.',\n",
       "  '**',\n",
       "  ''],\n",
       " ['CA',\n",
       "  '2015',\n",
       "  'August',\n",
       "  '12 month-ending',\n",
       "  'Number of Drug Overdose Deaths',\n",
       "  '4,670',\n",
       "  '100',\n",
       "  '0.233950964',\n",
       "  'California',\n",
       "  'Numbers may differ from published reports using final data. See Technical Notes.',\n",
       "  '**',\n",
       "  '4,782'],\n",
       " ['CA',\n",
       "  '2015',\n",
       "  'August',\n",
       "  '12 month-ending',\n",
       "  'Number of Deaths',\n",
       "  '256,464',\n",
       "  '100',\n",
       "  '0.233950964',\n",
       "  'California',\n",
       "  'Numbers may differ from published reports using final data. See Technical Notes.',\n",
       "  '**',\n",
       "  ''],\n",
       " ['CA',\n",
       "  '2015',\n",
       "  'December',\n",
       "  '12 month-ending',\n",
       "  'Number of Deaths',\n",
       "  '260,172',\n",
       "  '100',\n",
       "  '0.355918392',\n",
       "  'California',\n",
       "  'Numbers may differ from published reports using final data. See Technical Notes.',\n",
       "  '**',\n",
       "  ''],\n",
       " ['CA',\n",
       "  '2015',\n",
       "  'December',\n",
       "  '12 month-ending',\n",
       "  'Number of Drug Overdose Deaths',\n",
       "  '4,762',\n",
       "  '100',\n",
       "  '0.355918392',\n",
       "  'California',\n",
       "  'Numbers may differ from published reports using final data. See Technical Notes.',\n",
       "  '**',\n",
       "  '4,951'],\n",
       " ['CA',\n",
       "  '2015',\n",
       "  'February',\n",
       "  '12 month-ending',\n",
       "  'Number of Drug Overdose Deaths',\n",
       "  '4,616',\n",
       "  '100',\n",
       "  '0.23087388',\n",
       "  'California',\n",
       "  'Numbers may differ from published reports using final data. See Technical Notes.',\n",
       "  '**',\n",
       "  '4,725'],\n",
       " ['CA',\n",
       "  '2015',\n",
       "  'February',\n",
       "  '12 month-ending',\n",
       "  'Number of Deaths',\n",
       "  '249,920',\n",
       "  '100',\n",
       "  '0.23087388',\n",
       "  'California',\n",
       "  'Numbers may differ from published reports using final data. See Technical Notes.',\n",
       "  '**',\n",
       "  ''],\n",
       " ['CA',\n",
       "  '2015',\n",
       "  'January',\n",
       "  '12 month-ending',\n",
       "  'Number of Drug Overdose Deaths',\n",
       "  '4,603',\n",
       "  '100',\n",
       "  '0.238123058',\n",
       "  'California',\n",
       "  'Numbers may differ from published reports using final data. See Technical Notes.',\n",
       "  '**',\n",
       "  '4,716'],\n",
       " ['CA',\n",
       "  '2015',\n",
       "  'January',\n",
       "  '12 month-ending',\n",
       "  'Number of Deaths',\n",
       "  '248,191',\n",
       "  '100',\n",
       "  '0.238123058',\n",
       "  'California',\n",
       "  'Numbers may differ from published reports using final data. See Technical Notes.',\n",
       "  '**',\n",
       "  ''],\n",
       " ['CA',\n",
       "  '2015',\n",
       "  'July',\n",
       "  '12 month-ending',\n",
       "  'Number of Drug Overdose Deaths',\n",
       "  '4,628',\n",
       "  '100',\n",
       "  '0.224339022',\n",
       "  'California',\n",
       "  'Numbers may differ from published reports using final data. See Technical Notes.',\n",
       "  '**',\n",
       "  '4,734'],\n",
       " ['CA',\n",
       "  '2015',\n",
       "  'July',\n",
       "  '12 month-ending',\n",
       "  'Number of Deaths',\n",
       "  '255,417',\n",
       "  '100',\n",
       "  '0.224339022',\n",
       "  'California',\n",
       "  'Numbers may differ from published reports using final data. See Technical Notes.',\n",
       "  '**',\n",
       "  ''],\n",
       " ['CA',\n",
       "  '2015',\n",
       "  'June',\n",
       "  '12 month-ending',\n",
       "  'Number of Drug Overdose Deaths',\n",
       "  '4,604',\n",
       "  '100',\n",
       "  '0.219747447',\n",
       "  'California',\n",
       "  'Numbers may differ from published reports using final data. See Technical Notes.',\n",
       "  '**',\n",
       "  '4,707'],\n",
       " ['CA',\n",
       "  '2015',\n",
       "  'June',\n",
       "  '12 month-ending',\n",
       "  'Number of Deaths',\n",
       "  '254,838',\n",
       "  '100',\n",
       "  '0.219747447',\n",
       "  'California',\n",
       "  'Numbers may differ from published reports using final data. See Technical Notes.',\n",
       "  '**',\n",
       "  ''],\n",
       " ['CA',\n",
       "  '2015',\n",
       "  'March',\n",
       "  '12 month-ending',\n",
       "  'Number of Drug Overdose Deaths',\n",
       "  '4,608',\n",
       "  '100',\n",
       "  '0.224616363',\n",
       "  'California',\n",
       "  'Numbers may differ from published reports using final data. See Technical Notes.',\n",
       "  '**',\n",
       "  '4,714'],\n",
       " ['CA',\n",
       "  '2015',\n",
       "  'March',\n",
       "  '12 month-ending',\n",
       "  'Number of Deaths',\n",
       "  '251,540',\n",
       "  '100',\n",
       "  '0.224616363',\n",
       "  'California',\n",
       "  'Numbers may differ from published reports using final data. See Technical Notes.',\n",
       "  '**',\n",
       "  ''],\n",
       " ['CA',\n",
       "  '2015',\n",
       "  'May',\n",
       "  '12 month-ending',\n",
       "  'Number of Drug Overdose Deaths',\n",
       "  '4,607',\n",
       "  '100',\n",
       "  '0.217444398',\n",
       "  'California',\n",
       "  'Numbers may differ from published reports using final data. See Technical Notes.',\n",
       "  '**',\n",
       "  '4,708'],\n",
       " ['CA',\n",
       "  '2015',\n",
       "  'May',\n",
       "  '12 month-ending',\n",
       "  'Number of Deaths',\n",
       "  '253,858',\n",
       "  '100',\n",
       "  '0.217444398',\n",
       "  'California',\n",
       "  'Numbers may differ from published reports using final data. See Technical Notes.',\n",
       "  '**',\n",
       "  ''],\n",
       " ['CA',\n",
       "  '2015',\n",
       "  'November',\n",
       "  '12 month-ending',\n",
       "  'Number of Deaths',\n",
       "  '258,808',\n",
       "  '100',\n",
       "  '0.308336682',\n",
       "  'California',\n",
       "  'Numbers may differ from published reports using final data. See Technical Notes.',\n",
       "  '**',\n",
       "  ''],\n",
       " ['CA',\n",
       "  '2015',\n",
       "  'November',\n",
       "  '12 month-ending',\n",
       "  'Number of Drug Overdose Deaths',\n",
       "  '4,747',\n",
       "  '100',\n",
       "  '0.308336682',\n",
       "  'California',\n",
       "  'Numbers may differ from published reports using final data. See Technical Notes.',\n",
       "  '**',\n",
       "  '4,906']]"
      ]
     },
     "execution_count": 5,
     "metadata": {},
     "output_type": "execute_result"
    }
   ],
   "source": [
    "total_death[:20]"
   ]
  },
  {
   "cell_type": "code",
   "execution_count": 6,
   "metadata": {},
   "outputs": [],
   "source": [
    "# finding total number of death and overdose death number of each year\n",
    "total = {'2015':0 , '2016':0 , '2017':0 , '2018':0 , '2019':0 , '2020':0 , '2021':0 , '2022':0 , '2023':0}\n",
    "overdose = {'2015':0 , '2016':0 , '2017':0 , '2018':0 , '2019':0 , '2020':0 , '2021':0 , '2022':0 , '2023':0}\n",
    "\n",
    "for row in total_death:\n",
    "    a = row[Indicator_index]\n",
    "    b = row[Year_index]\n",
    "    if a=='Number of Deaths':\n",
    "        total[b] += int(row[Data_index].replace(',', ''))\n",
    "    else:\n",
    "        overdose[b] += int(row[Data_index].replace(',', ''))\n",
    "        \n"
   ]
  },
  {
   "cell_type": "code",
   "execution_count": 7,
   "metadata": {},
   "outputs": [],
   "source": [
    "# finding the percentage of the overdose death over overall death of each year\n",
    "percentage = {'2015':0 , '2016':0 , '2017':0 , '2018':0 , '2019':0 , '2020':0 , '2021':0 , '2022':0 , '2023':0}\n",
    "for x in ['2015', '2016', '2017', '2018', '2019', '2020', '2021', '2022', '2023']:\n",
    "    percentage[x] = overdose[x]/total[x]"
   ]
  },
  {
   "cell_type": "code",
   "execution_count": 8,
   "metadata": {},
   "outputs": [
    {
     "data": {
      "text/plain": [
       "{'2015': 0.01831922777982775,\n",
       " '2016': 0.018204340005879765,\n",
       " '2017': 0.018240172789144964,\n",
       " '2018': 0.01934977568165341,\n",
       " '2019': 0.022032766965789652,\n",
       " '2020': 0.026844573816504038,\n",
       " '2021': 0.03089656616627571,\n",
       " '2022': 0.036161464682379546,\n",
       " '2023': 0.03920776434408483}"
      ]
     },
     "execution_count": 8,
     "metadata": {},
     "output_type": "execute_result"
    }
   ],
   "source": [
    "percentage"
   ]
  },
  {
   "cell_type": "code",
   "execution_count": 9,
   "metadata": {},
   "outputs": [
    {
     "data": {
      "image/png": "[encoded data removed]",
      "text/plain": [
       "<Figure size 1000x600 with 1 Axes>"
      ]
     },
     "metadata": {},
     "output_type": "display_data"
    }
   ],
   "source": [
    "# curve plot\n",
    "import matplotlib.pyplot as plt\n",
    "plt.figure(figsize=(10, 6))\n",
    "plt.plot(*zip(*sorted(percentage.items())))\n",
    "plt.title('Percentage of Drug Overdose Death over Overall Death vs Year in CA')\n",
    "plt.xlabel('Year')\n",
    "plt.ylabel('Percentage of Drug Overdose Death over Overall Death in CA')\n",
    "plt.xticks(rotation=45)\n",
    "plt.tight_layout()\n",
    "plt.show()\n"
   ]
  },
  {
   "cell_type": "code",
   "execution_count": 10,
   "metadata": {},
   "outputs": [
    {
     "data": {
      "image/png": "[encoded data removed]",
      "text/plain": [
       "<Figure size 640x480 with 1 Axes>"
      ]
     },
     "metadata": {},
     "output_type": "display_data"
    }
   ],
   "source": [
    "# bar plot\n",
    "years = list(percentage.keys())\n",
    "values = list(percentage.values())\n",
    "\n",
    "plt.bar(range(len(percentage)), values, tick_label=years)\n",
    "plt.show()"
   ]
  }
 ],
 "metadata": {
  "kernelspec": {
   "display_name": "Python 3",
   "language": "python",
   "name": "python3"
  },
  "language_info": {
   "codemirror_mode": {
    "name": "ipython",
    "version": 3
   },
   "file_extension": ".py",
   "mimetype": "text/x-python",
   "name": "python",
   "nbconvert_exporter": "python",
   "pygments_lexer": "ipython3",
   "version": "3.8.3"
  }
 },
 "nbformat": 4,
 "nbformat_minor": 2
}
